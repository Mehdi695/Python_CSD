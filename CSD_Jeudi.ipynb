{
 "cells": [
  {
   "cell_type": "code",
   "execution_count": null,
   "metadata": {},
   "outputs": [],
   "source": [
    "Generation de CSD"
   ]
  },
  {
   "cell_type": "code",
   "execution_count": null,
   "metadata": {},
   "outputs": [],
   "source": [
    "# -*- coding: utf-8 -*-\n",
    "\"\"\"\n",
    "Created on Thu Feb 20 20:56:57 2020\n",
    "\n",
    "@author: Mehdi\n",
    "\"\"\"\n",
    "\n",
    "import numpy as np\n",
    "from matplotlib import pyplot as plt\n",
    "cristaux = np.array(np.random.normal (1, 0.1, size = 1)) # Cristal initial\n",
    "#rcroissance = np.array (np.random.normal(20, 0.1, size = 5))\n",
    "nucleation = np.array(np.random.normal(5, 0.5, size = 2))\n",
    "croissance = np.random.uniform(1, 10)\n",
    "\n",
    "\n",
    "etape = 0\n",
    "for etape in range (0,100):\n",
    "    if etape < 100:\n",
    "        loi_nucleation = int(np.random.randint(10, 20) * (etape+1)) # La nucleation augmente avec le temps\n",
    "        nucleation = np.array(np.random.normal(np.random.uniform(1, 5), 2, size = loi_nucleation)) \n",
    "        croissance = np.random.uniform(10, 20) / (etape+1) # La croissance cristalline diminue avec le temps\n",
    "        cristaux = cristaux + croissance\n",
    "        cristaux = np.append(cristaux, nucleation)\n",
    "        intro = \"Etape n°\" + str(etape)\n",
    "        croissance_moyenne = ['Croissance moyenne : ' + str(np.mean(croissance))]\n",
    "        taille_moyenne = ['Taille moyenne ' + str(np.mean(cristaux))]\n",
    "        csd = [intro, croissance_moyenne, taille_moyenne, cristaux]\n",
    "        etape = etape + 1\n",
    "        print(csd)\n",
    "        total_cristaux = (len(cristaux))\n",
    "        plt.hist(cristaux, bins = 30,  width = 3,log = True, color = 'red', edgecolor = 'black') # Création d'un histogramme à 10 classes\n",
    "        plt.ylabel('Effectif', size = 12)\n",
    "        plt.xlabel('Taille de grain', size = 12)\n",
    "        plt.title ('Etape ' + str(etape) + ' : ' + str(total_cristaux) + ' cristaux' + ' (+ ' + str(loi_nucleation) + ' cristaux' + ')', color = 'black', size =15)\n",
    "        plt.show(csd) # Affichage de l'histogramme\n",
    "    else: \n",
    "        nucleation = np.array(np.random.normal(2, 0.5, size = 10))\n",
    "        croissance = np.random.uniform(1, 2)\n",
    "        cristaux = cristaux + croissance\n",
    "        cristaux = np.append(cristaux, nucleation)\n",
    "        Intro = \"Etape n°\" + str(etape)\n",
    "        csd = [Intro, cristaux]\n",
    "        etape = etape + 1\n",
    "        print(csd)\n",
    "        plt.hist(cristaux,  width = 20, color='blue') # Création d'un histogramme à 10 classes\n",
    "        plt.ylabel('Effectif cumulé', size = 12)\n",
    "        plt.xlabel('Taille de grains', size = 12)\n",
    "        plt.show(csd) # Affichage de l'histogramme"
   ]
  }
 ],
 "metadata": {
  "kernelspec": {
   "display_name": "Python 3",
   "language": "python",
   "name": "python3"
  },
  "language_info": {
   "codemirror_mode": {
    "name": "ipython",
    "version": 3
   },
   "file_extension": ".py",
   "mimetype": "text/x-python",
   "name": "python",
   "nbconvert_exporter": "python",
   "pygments_lexer": "ipython3",
   "version": "3.7.4"
  }
 },
 "nbformat": 4,
 "nbformat_minor": 4
}
